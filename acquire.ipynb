{
 "cells": [
  {
   "cell_type": "markdown",
   "id": "2f4bcb8c",
   "metadata": {},
   "source": [
    "# Exercises"
   ]
  },
  {
   "cell_type": "markdown",
   "id": "3d1d2301",
   "metadata": {},
   "source": [
    "By the end of this exercise, you should have a file named `acquire.py` that contains the specified functions. If you wish, you may break your work into separate files for each website (e.g. `acquire_codeup_blog.py` and `acquire_news_articles.py`, but the end function should be present in `acquire.py` (that is, acquire.py should import `get_blog_articles` from the `acquire_codeup_blog` module.)\n",
    "\n"
   ]
  },
  {
   "cell_type": "markdown",
   "id": "6683a9cb",
   "metadata": {},
   "source": [
    "## 1. Codeup Blog Articles"
   ]
  },
  {
   "cell_type": "markdown",
   "id": "7fe9d534",
   "metadata": {},
   "source": [
    "Visit [Codeup's Blog](https://codeup.com/blog/) and record the urls for at least 5 distinct blog posts. For each post, you should scrape at least the post's title and content.\n",
    "\n",
    "Encapsulate your work in a function named get_blog_articles that will return a list of dictionaries, with each dictionary representing one article. The shape of each dictionary should look like this:\n",
    "\n",
    "\n",
    "        {\n",
    "            'title': 'the title of the article',\n",
    "            'content': 'the full text content of the article'\n",
    "        }\n"
   ]
  },
  {
   "cell_type": "markdown",
   "id": "3e8fe9b4",
   "metadata": {},
   "source": [
    "**Bonus**: Scrape the text of all the articles linked on codeup's blog page."
   ]
  },
  {
   "cell_type": "markdown",
   "id": "19940d56",
   "metadata": {},
   "source": [
    "## 2. News Articles\n",
    "We will now be scraping text data from [inshorts](https://inshorts.com/), a website that provides a brief overview of many different topics.\n",
    "\n",
    "Write a function that scrapes the news articles for the following topics:\n",
    "- Business\n",
    "- Sports\n",
    "- Technology\n",
    "- Entertainment\n",
    "\n",
    "The end product of this should be a function named get_news_articles that returns a list of dictionaries, where each dictionary has this shape:\n",
    "\n",
    "```\n",
    "{\n",
    "    'title': 'The article title',\n",
    "    'content': 'The article content',\n",
    "    'category': 'business' # for example\n",
    "}\n",
    "```"
   ]
  },
  {
   "cell_type": "markdown",
   "id": "31ec59f7",
   "metadata": {},
   "source": [
    "Hints:\n",
    "\n",
    "- Start by inspecting the website in your browser. Figure out which elements will be useful.\n",
    "\n",
    "- Start by creating a function that handles a single article and produces a dictionary like the one above.\n",
    "\n",
    "- Next create a function that will find all the articles on a single page and call the function you created in the last step for every article on the page.\n",
    "\n",
    "- Now create a function that will use the previous two functions to scrape the articles from all the pages that you need, and do any additional processing that needs to be done."
   ]
  },
  {
   "cell_type": "markdown",
   "id": "d853a3e2",
   "metadata": {},
   "source": [
    "## 3. BONUS: cache the data"
   ]
  },
  {
   "cell_type": "markdown",
   "id": "0a329061",
   "metadata": {},
   "source": [
    "Write your code such that the acquired data is saved locally in some form or fashion. Your functions that retrieve the data should prefer to read the local data instead of having to make all the requests everytime the function is called. Include a boolean flag in the functions to allow the data to be acquired \"fresh\" from the actual sources (re-writing your local cache)."
   ]
  },
  {
   "cell_type": "code",
   "execution_count": null,
   "id": "16c82165",
   "metadata": {},
   "outputs": [],
   "source": []
  }
 ],
 "metadata": {
  "kernelspec": {
   "display_name": "Python 3 (ipykernel)",
   "language": "python",
   "name": "python3"
  },
  "language_info": {
   "codemirror_mode": {
    "name": "ipython",
    "version": 3
   },
   "file_extension": ".py",
   "mimetype": "text/x-python",
   "name": "python",
   "nbconvert_exporter": "python",
   "pygments_lexer": "ipython3",
   "version": "3.9.12"
  }
 },
 "nbformat": 4,
 "nbformat_minor": 5
}
