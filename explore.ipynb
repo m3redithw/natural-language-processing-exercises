{
 "cells": [
  {
   "cell_type": "markdown",
   "id": "bc30f9e5",
   "metadata": {},
   "source": [
    "# Data Exploration Exercises\n"
   ]
  },
  {
   "cell_type": "markdown",
   "id": "8c00b2fb",
   "metadata": {},
   "source": [
    "## 1. Spam Data"
   ]
  },
  {
   "cell_type": "markdown",
   "id": "b31a0ec1",
   "metadata": {},
   "source": [
    "### a. Load the spam data set."
   ]
  },
  {
   "cell_type": "markdown",
   "id": "3e9869ad",
   "metadata": {},
   "source": [
    "### b. Create and explore bigrams for the spam data. Visualize them with a word cloud. How do they compare with the ham bigrams?"
   ]
  },
  {
   "cell_type": "markdown",
   "id": "6740504e",
   "metadata": {},
   "source": [
    "### c. Is there any overlap in the bigrams for the spam data and the ham data?\n"
   ]
  },
  {
   "cell_type": "markdown",
   "id": "5e97a039",
   "metadata": {},
   "source": [
    "### d. Create and explore with trigrams (i.e. a n-gram with an n of 3) for both the spam and ham data."
   ]
  },
  {
   "cell_type": "markdown",
   "id": "6eb0d5ce",
   "metadata": {},
   "source": [
    "## 2. Explore the blog articles using the techniques discussed in the exploration lesson./"
   ]
  },
  {
   "cell_type": "markdown",
   "id": "56487d09",
   "metadata": {},
   "source": [
    "## 3. Explore the news articles using the techniques discussed in the exploration lesson. Use the `category` variable when exploring."
   ]
  },
  {
   "cell_type": "code",
   "execution_count": null,
   "id": "1ebd9ca1",
   "metadata": {},
   "outputs": [],
   "source": []
  }
 ],
 "metadata": {
  "kernelspec": {
   "display_name": "Python 3 (ipykernel)",
   "language": "python",
   "name": "python3"
  },
  "language_info": {
   "codemirror_mode": {
    "name": "ipython",
    "version": 3
   },
   "file_extension": ".py",
   "mimetype": "text/x-python",
   "name": "python",
   "nbconvert_exporter": "python",
   "pygments_lexer": "ipython3",
   "version": "3.9.12"
  }
 },
 "nbformat": 4,
 "nbformat_minor": 5
}
