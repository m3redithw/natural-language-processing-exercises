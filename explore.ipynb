{
 "cells": [
  {
   "cell_type": "markdown",
   "id": "edd64d4b",
   "metadata": {},
   "source": [
    "# Data Exploration Exercises\n"
   ]
  },
  {
   "cell_type": "markdown",
   "id": "12f25b3a",
   "metadata": {},
   "source": [
    "## 1. Spam Data"
   ]
  },
  {
   "cell_type": "markdown",
   "id": "0d6e2e98",
   "metadata": {},
   "source": [
    "### a. Load the spam data set."
   ]
  },
  {
   "cell_type": "code",
   "execution_count": 13,
   "id": "d65ad938",
   "metadata": {},
   "outputs": [],
   "source": [
    "import pandas as pd\n",
    "from prepare import basic_clean, lemmatize, remove_stopwords\n",
    "import matplotlib.pyplot as plt\n",
    "\n",
    "# acquire data from spam_db\n",
    "from env import user, password, host\n",
    "\n",
    "def get_db_url(database, host=host, user=user, password=password):\n",
    "    return f'mysql+pymysql://{user}:{password}@{host}/{database}'\n",
    "\n",
    "\n",
    "url = get_db_url(\"spam_db\")\n",
    "sql = \"SELECT * FROM spam\"\n",
    "\n",
    "df = pd.read_sql(sql, url, index_col=\"id\")"
   ]
  },
  {
   "cell_type": "code",
   "execution_count": 2,
   "id": "a6428a35",
   "metadata": {},
   "outputs": [
    {
     "data": {
      "text/plain": [
       "(5572, 2)"
      ]
     },
     "execution_count": 2,
     "metadata": {},
     "output_type": "execute_result"
    }
   ],
   "source": [
    "df.shape"
   ]
  },
  {
   "cell_type": "code",
   "execution_count": 4,
   "id": "36f0649e",
   "metadata": {},
   "outputs": [
    {
     "data": {
      "text/plain": [
       "<bound method NDFrame.head of      label                                               text\n",
       "id                                                           \n",
       "0      ham  Go until jurong point, crazy.. Available only ...\n",
       "1      ham                      Ok lar... Joking wif u oni...\n",
       "2     spam  Free entry in 2 a wkly comp to win FA Cup fina...\n",
       "3      ham  U dun say so early hor... U c already then say...\n",
       "4      ham  Nah I don't think he goes to usf, he lives aro...\n",
       "...    ...                                                ...\n",
       "5567  spam  This is the 2nd time we have tried 2 contact u...\n",
       "5568   ham              Will Ì_ b going to esplanade fr home?\n",
       "5569   ham  Pity, * was in mood for that. So...any other s...\n",
       "5570   ham  The guy did some bitching but I acted like i'd...\n",
       "5571   ham                         Rofl. Its true to its name\n",
       "\n",
       "[5572 rows x 2 columns]>"
      ]
     },
     "execution_count": 4,
     "metadata": {},
     "output_type": "execute_result"
    }
   ],
   "source": [
    "df.head"
   ]
  },
  {
   "cell_type": "markdown",
   "id": "67e557d5",
   "metadata": {},
   "source": [
    "### b. Create and explore bigrams for the spam data. Visualize them with a word cloud. How do they compare with the ham bigrams?"
   ]
  },
  {
   "cell_type": "code",
   "execution_count": 3,
   "id": "6d96bd9a",
   "metadata": {},
   "outputs": [
    {
     "data": {
      "text/plain": [
       "ham     4825\n",
       "spam     747\n",
       "Name: label, dtype: int64"
      ]
     },
     "execution_count": 3,
     "metadata": {},
     "output_type": "execute_result"
    }
   ],
   "source": [
    "# initial value counts\n",
    "df.label.value_counts()"
   ]
  },
  {
   "cell_type": "code",
   "execution_count": 5,
   "id": "9c80801e",
   "metadata": {},
   "outputs": [],
   "source": [
    "# combine cleaning function\n",
    "def clean(text):\n",
    "    return remove_stopwords(lemmatize(basic_clean(text)))"
   ]
  },
  {
   "cell_type": "code",
   "execution_count": 6,
   "id": "6b92e7f3",
   "metadata": {},
   "outputs": [],
   "source": [
    "# clean text in spam data\n",
    "df.text = df.text.apply(clean)"
   ]
  },
  {
   "cell_type": "code",
   "execution_count": 7,
   "id": "f4aa2543",
   "metadata": {},
   "outputs": [
    {
     "data": {
      "text/plain": [
       "id\n",
       "0    go jurong point crazy available bugis n great ...\n",
       "1                              ok lar joking wif u oni\n",
       "2    free entry 2 wkly comp win fa cup final tkts 2...\n",
       "3                  u dun say early hor u c already say\n",
       "4             nah dont think go usf life around though\n",
       "Name: text, dtype: object"
      ]
     },
     "execution_count": 7,
     "metadata": {},
     "output_type": "execute_result"
    }
   ],
   "source": [
    "# check cleaned text\n",
    "df.text.head()"
   ]
  },
  {
   "cell_type": "code",
   "execution_count": 8,
   "id": "8d73697a",
   "metadata": {},
   "outputs": [],
   "source": [
    "# categorize text\n",
    "all_text = ' '.join(df.text)\n",
    "spam_text = ' '.join(df[df.label == 'spam'].text)\n",
    "ham_text = ' '.join(df[df.label == 'ham'].text)\n",
    "all_text = clean(all_text)\n",
    "spam_text = clean(spam_text)\n",
    "ham_text = clean(ham_text)"
   ]
  },
  {
   "cell_type": "code",
   "execution_count": 9,
   "id": "e403c0d1",
   "metadata": {},
   "outputs": [
    {
     "data": {
      "text/plain": [
       "u           1183\n",
       "call         600\n",
       "2            478\n",
       "im           462\n",
       "get          397\n",
       "            ... \n",
       "basket         1\n",
       "dane           1\n",
       "corrct         1\n",
       "santha         1\n",
       "bitching       1\n",
       "Length: 8886, dtype: int64"
      ]
     },
     "execution_count": 9,
     "metadata": {},
     "output_type": "execute_result"
    }
   ],
   "source": [
    "# aggregate on word, check frequency for each word\n",
    "pd.Series(all_text.split()).value_counts()"
   ]
  },
  {
   "cell_type": "code",
   "execution_count": 10,
   "id": "0321095d",
   "metadata": {},
   "outputs": [],
   "source": [
    "# store value count into variable\n",
    "ham_freq = pd.Series(ham_text.split()).value_counts()\n",
    "spam_freq = pd.Series(spam_text.split()).value_counts()\n",
    "all_freq = pd.Series(all_text.split()).value_counts()"
   ]
  },
  {
   "cell_type": "code",
   "execution_count": 11,
   "id": "e75b87aa",
   "metadata": {},
   "outputs": [],
   "source": [
    "# store word's frequency into dataframe\n",
    "word_counts = pd.concat([all_freq, spam_freq, ham_freq], sort=True, axis=1)\n",
    "word_counts.columns = ['all', 'spam', 'ham']\n",
    "word_counts = word_counts.fillna(0).apply(lambda s: s.astype(int))"
   ]
  },
  {
   "cell_type": "code",
   "execution_count": 12,
   "id": "19cf83cf",
   "metadata": {},
   "outputs": [
    {
     "data": {
      "text/html": [
       "<div>\n",
       "<style scoped>\n",
       "    .dataframe tbody tr th:only-of-type {\n",
       "        vertical-align: middle;\n",
       "    }\n",
       "\n",
       "    .dataframe tbody tr th {\n",
       "        vertical-align: top;\n",
       "    }\n",
       "\n",
       "    .dataframe thead th {\n",
       "        text-align: right;\n",
       "    }\n",
       "</style>\n",
       "<table border=\"1\" class=\"dataframe\">\n",
       "  <thead>\n",
       "    <tr style=\"text-align: right;\">\n",
       "      <th></th>\n",
       "      <th>all</th>\n",
       "      <th>spam</th>\n",
       "      <th>ham</th>\n",
       "    </tr>\n",
       "  </thead>\n",
       "  <tbody>\n",
       "    <tr>\n",
       "      <th>u</th>\n",
       "      <td>1183</td>\n",
       "      <td>155</td>\n",
       "      <td>1028</td>\n",
       "    </tr>\n",
       "    <tr>\n",
       "      <th>call</th>\n",
       "      <td>600</td>\n",
       "      <td>359</td>\n",
       "      <td>241</td>\n",
       "    </tr>\n",
       "    <tr>\n",
       "      <th>2</th>\n",
       "      <td>478</td>\n",
       "      <td>173</td>\n",
       "      <td>305</td>\n",
       "    </tr>\n",
       "    <tr>\n",
       "      <th>im</th>\n",
       "      <td>462</td>\n",
       "      <td>13</td>\n",
       "      <td>449</td>\n",
       "    </tr>\n",
       "    <tr>\n",
       "      <th>get</th>\n",
       "      <td>397</td>\n",
       "      <td>83</td>\n",
       "      <td>314</td>\n",
       "    </tr>\n",
       "    <tr>\n",
       "      <th>...</th>\n",
       "      <td>...</td>\n",
       "      <td>...</td>\n",
       "      <td>...</td>\n",
       "    </tr>\n",
       "    <tr>\n",
       "      <th>hari</th>\n",
       "      <td>1</td>\n",
       "      <td>0</td>\n",
       "      <td>1</td>\n",
       "    </tr>\n",
       "    <tr>\n",
       "      <th>hardest</th>\n",
       "      <td>1</td>\n",
       "      <td>0</td>\n",
       "      <td>1</td>\n",
       "    </tr>\n",
       "    <tr>\n",
       "      <th>harder</th>\n",
       "      <td>1</td>\n",
       "      <td>0</td>\n",
       "      <td>1</td>\n",
       "    </tr>\n",
       "    <tr>\n",
       "      <th>happiest</th>\n",
       "      <td>1</td>\n",
       "      <td>0</td>\n",
       "      <td>1</td>\n",
       "    </tr>\n",
       "    <tr>\n",
       "      <th>zyada</th>\n",
       "      <td>1</td>\n",
       "      <td>0</td>\n",
       "      <td>1</td>\n",
       "    </tr>\n",
       "  </tbody>\n",
       "</table>\n",
       "<p>8886 rows × 3 columns</p>\n",
       "</div>"
      ],
      "text/plain": [
       "           all  spam   ham\n",
       "u         1183   155  1028\n",
       "call       600   359   241\n",
       "2          478   173   305\n",
       "im         462    13   449\n",
       "get        397    83   314\n",
       "...        ...   ...   ...\n",
       "hari         1     0     1\n",
       "hardest      1     0     1\n",
       "harder       1     0     1\n",
       "happiest     1     0     1\n",
       "zyada        1     0     1\n",
       "\n",
       "[8886 rows x 3 columns]"
      ]
     },
     "execution_count": 12,
     "metadata": {},
     "output_type": "execute_result"
    }
   ],
   "source": [
    "# sort dataframe by frequency\n",
    "word_counts.sort_values(by='all', ascending=False)"
   ]
  },
  {
   "cell_type": "code",
   "execution_count": 19,
   "id": "f3f9d575",
   "metadata": {},
   "outputs": [
    {
     "data": {
      "text/plain": [
       "<AxesSubplot:title={'center':'Most Frequenly Occured Words'}>"
      ]
     },
     "execution_count": 19,
     "metadata": {},
     "output_type": "execute_result"
    },
    {
     "data": {
      "image/png": "[encoded data removed]",
      "text/plain": [
       "<Figure size 1296x648 with 1 Axes>"
      ]
     },
     "metadata": {
      "needs_background": "light"
     },
     "output_type": "display_data"
    }
   ],
   "source": [
    "# visualizing word frequency\n",
    "word_counts.assign(p_spam=word_counts.spam / word_counts['all'],p_ham=word_counts.ham / word_counts['all'])\\\n",
    "    .sort_values(by='all')\\\n",
    "    .tail(20)\\\n",
    "    [['p_spam', 'p_ham']]\\\n",
    "    .sort_values(by='p_ham')\\\n",
    "    .plot.barh(stacked=True, figsize = (18,9), title = 'Most Frequenly Occured Words', color = ['#DF00AC', '#ACDF00'])"
   ]
  },
  {
   "cell_type": "markdown",
   "id": "45c583f9",
   "metadata": {},
   "source": [
    "### c. Is there any overlap in the bigrams for the spam data and the ham data?\n"
   ]
  },
  {
   "cell_type": "markdown",
   "id": "e3eb592f",
   "metadata": {},
   "source": [
    "### d. Create and explore with trigrams (i.e. a n-gram with an n of 3) for both the spam and ham data."
   ]
  },
  {
   "cell_type": "markdown",
   "id": "23f1cbf6",
   "metadata": {},
   "source": [
    "## 2. Explore the blog articles using the techniques discussed in the exploration lesson./"
   ]
  },
  {
   "cell_type": "markdown",
   "id": "14d104bb",
   "metadata": {},
   "source": [
    "## 3. Explore the news articles using the techniques discussed in the exploration lesson. Use the `category` variable when exploring."
   ]
  },
  {
   "cell_type": "code",
   "execution_count": null,
   "id": "01e43122",
   "metadata": {},
   "outputs": [],
   "source": []
  }
 ],
 "metadata": {
  "kernelspec": {
   "display_name": "Python 3 (ipykernel)",
   "language": "python",
   "name": "python3"
  },
  "language_info": {
   "codemirror_mode": {
    "name": "ipython",
    "version": 3
   },
   "file_extension": ".py",
   "mimetype": "text/x-python",
   "name": "python",
   "nbconvert_exporter": "python",
   "pygments_lexer": "ipython3",
   "version": "3.9.12"
  }
 },
 "nbformat": 4,
 "nbformat_minor": 5
}
